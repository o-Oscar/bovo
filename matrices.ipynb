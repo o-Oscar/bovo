{
 "cells": [
  {
   "cell_type": "code",
   "execution_count": 1,
   "metadata": {},
   "outputs": [],
   "source": [
    "\n",
    "%load_ext autoreload\n",
    "%autoreload 2"
   ]
  },
  {
   "cell_type": "code",
   "execution_count": 2,
   "metadata": {},
   "outputs": [
    {
     "name": "stderr",
     "output_type": "stream",
     "text": [
      "/home/oscar/bovo/.venv/lib/python3.10/site-packages/tqdm/auto.py:22: TqdmWarning: IProgress not found. Please update jupyter and ipywidgets. See https://ipywidgets.readthedocs.io/en/stable/user_install.html\n",
      "  from .autonotebook import tqdm as notebook_tqdm\n"
     ]
    }
   ],
   "source": [
    "import typing\n",
    "import io\n",
    "import os\n",
    "\n",
    "import torch\n",
    "import numpy as np\n",
    "import matplotlib.pyplot as plt\n",
    "\n",
    "from bovo.vit.models.modeling import PretrainedResNet\n",
    "from bovo.vit.utils.dataset import VitDataset\n",
    "from bovo.vit.utils.data_utils import get_loader\n"
   ]
  },
  {
   "cell_type": "code",
   "execution_count": 3,
   "metadata": {},
   "outputs": [],
   "source": [
    "# train_loader, test_loader = get_loader()\n",
    "trainset = VitDataset(train=True, img_size=224)\n",
    "testset = VitDataset(train=False, img_size=224)"
   ]
  },
  {
   "cell_type": "code",
   "execution_count": 4,
   "metadata": {},
   "outputs": [],
   "source": [
    "def create_confusion_matrix (model, dataset, batch_size = 128):\n",
    "\n",
    "    model.eval()\n",
    "\n",
    "    n_batches = int(np.ceil(len(dataset) / batch_size))\n",
    "    all_pred = []\n",
    "    all_labels = []\n",
    "    for batch_id in range(n_batches):\n",
    "        cur_batch_size = min(batch_size, len(dataset)-batch_id*batch_size)\n",
    "        imgs, labels = zip(*[dataset[i+batch_id*batch_size] for i in range(cur_batch_size)])\n",
    "        imgs = torch.stack(imgs)\n",
    "        all_labels.append(list(labels))\n",
    "        pred = model(imgs).detach().cpu().numpy().flatten()\n",
    "        all_pred.append(pred)\n",
    "        \n",
    "    all_pred = np.concatenate(all_pred, axis=0)\n",
    "    all_labels = np.concatenate(all_labels, axis=0)\n",
    "\n",
    "    true_pos = len([0 for (label, pred) in zip(all_labels, all_pred) if label > 17 and pred > 0])\n",
    "    false_pos = len([0 for (label, pred) in zip(all_labels, all_pred) if label <= 17 and pred > 0])\n",
    "    false_neg = len([0 for (label, pred) in zip(all_labels, all_pred) if label > 17 and pred <= 0])\n",
    "    true_neg = len([0 for (label, pred) in zip(all_labels, all_pred) if label <= 17 and pred <= 0])\n",
    "    conf_mat = np.array([[true_pos, false_pos], [false_neg, true_neg]])\n",
    "    plt.imshow(conf_mat, cmap =\"Blues\")\n",
    "    for (j,i),label in np.ndenumerate(conf_mat):\n",
    "        plt.text(i, j, conf_mat[j,i], ha=\"center\", va=\"center\")\n",
    "\n",
    "    ax = plt.gca()\n",
    "    ax.set_xticks([0, 1])\n",
    "    ax.set_xticklabels([\"po_bc > 17\", \"po_bc <= 17\"])\n",
    "    ax.set_yticks([0, 1])\n",
    "    ax.set_yticklabels([\"prediction > 17\", \"prediction <= 17\"])\n",
    "\n",
    "    return all_labels, all_pred\n",
    "\n"
   ]
  },
  {
   "cell_type": "code",
   "execution_count": 5,
   "metadata": {},
   "outputs": [
    {
     "data": {
      "image/png": "[encoded data removed]",
      "text/plain": [
       "<Figure size 640x480 with 1 Axes>"
      ]
     },
     "metadata": {},
     "output_type": "display_data"
    }
   ],
   "source": [
    "\n",
    "model = PretrainedResNet(224, reg_loss=True, model_type=\"res18\")\n",
    "model.load_state_dict(torch.load(\"results/models/res18_cla_checkpoint.bin\"))\n",
    "all_labels, all_pred = create_confusion_matrix(model, testset, 64)\n",
    "plt.show()"
   ]
  },
  {
   "cell_type": "code",
   "execution_count": 6,
   "metadata": {},
   "outputs": [
    {
     "data": {
      "image/png": "[encoded data removed]",
      "text/plain": [
       "<Figure size 640x480 with 1 Axes>"
      ]
     },
     "metadata": {},
     "output_type": "display_data"
    }
   ],
   "source": [
    "\n",
    "model = PretrainedResNet(224, reg_loss=True, model_type=\"res34\")\n",
    "model.load_state_dict(torch.load(\"results/models/res34_cla_checkpoint.bin\"))\n",
    "all_labels, all_pred = create_confusion_matrix(model, testset, 64)\n",
    "plt.show()"
   ]
  },
  {
   "cell_type": "code",
   "execution_count": 7,
   "metadata": {},
   "outputs": [
    {
     "ename": "",
     "evalue": "",
     "output_type": "error",
     "traceback": [
      "\u001b[1;31mCanceled future for execute_request message before replies were done"
     ]
    },
    {
     "ename": "",
     "evalue": "",
     "output_type": "error",
     "traceback": [
      "\u001b[1;31mThe Kernel crashed while executing code in the the current cell or a previous cell. Please review the code in the cell(s) to identify a possible cause of the failure. Click <a href='https://aka.ms/vscodeJupyterKernelCrash'>here</a> for more info. View Jupyter <a href='command:jupyter.viewOutput'>log</a> for further details."
     ]
    }
   ],
   "source": [
    "\n",
    "model = PretrainedResNet(224, reg_loss=True, model_type=\"res50\")\n",
    "model.load_state_dict(torch.load(\"results/models/res50_cla_checkpoint.bin\"))\n",
    "all_labels, all_pred = create_confusion_matrix(model, testset, 32)\n",
    "plt.show()"
   ]
  },
  {
   "cell_type": "code",
   "execution_count": null,
   "metadata": {},
   "outputs": [],
   "source": [
    "\n",
    "model = PretrainedResNet(224, reg_loss=True, model_type=\"res101\")\n",
    "model.load_state_dict(torch.load(\"results/models/res101_cla_checkpoint.bin\"))\n",
    "all_labels, all_pred = create_confusion_matrix(model, testset, 16)\n",
    "plt.show()"
   ]
  }
 ],
 "metadata": {
  "kernelspec": {
   "display_name": "Python 3.10.7 ('.venv': venv)",
   "language": "python",
   "name": "python3"
  },
  "language_info": {
   "codemirror_mode": {
    "name": "ipython",
    "version": 3
   },
   "file_extension": ".py",
   "mimetype": "text/x-python",
   "name": "python",
   "nbconvert_exporter": "python",
   "pygments_lexer": "ipython3",
   "version": "3.10.7"
  },
  "orig_nbformat": 4,
  "vscode": {
   "interpreter": {
    "hash": "989c671ac08fe6743f13182a6e4ff74225b5ef4b378cb3c01e80b46897950734"
   }
  }
 },
 "nbformat": 4,
 "nbformat_minor": 2
}
